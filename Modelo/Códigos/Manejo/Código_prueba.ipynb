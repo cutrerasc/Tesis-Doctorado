{
 "cells": [
  {
   "cell_type": "code",
   "execution_count": 1,
   "id": "69ec1e1a",
   "metadata": {
    "vscode": {
     "languageId": "r"
    }
   },
   "outputs": [
    {
     "name": "stderr",
     "output_type": "stream",
     "text": [
      "── \u001b[1mAttaching core tidyverse packages\u001b[22m ──────────────────────── tidyverse 2.0.0 ──\n",
      "\u001b[32m✔\u001b[39m \u001b[34mdplyr    \u001b[39m 1.1.4     \u001b[32m✔\u001b[39m \u001b[34mreadr    \u001b[39m 2.1.5\n",
      "\u001b[32m✔\u001b[39m \u001b[34mforcats  \u001b[39m 1.0.0     \u001b[32m✔\u001b[39m \u001b[34mstringr  \u001b[39m 1.5.1\n",
      "\u001b[32m✔\u001b[39m \u001b[34mggplot2  \u001b[39m 3.5.2     \u001b[32m✔\u001b[39m \u001b[34mtibble   \u001b[39m 3.3.0\n",
      "\u001b[32m✔\u001b[39m \u001b[34mlubridate\u001b[39m 1.9.4     \u001b[32m✔\u001b[39m \u001b[34mtidyr    \u001b[39m 1.3.1\n",
      "\u001b[32m✔\u001b[39m \u001b[34mpurrr    \u001b[39m 1.1.0     \n",
      "── \u001b[1mConflicts\u001b[22m ────────────────────────────────────────── tidyverse_conflicts() ──\n",
      "\u001b[31m✖\u001b[39m \u001b[34mdplyr\u001b[39m::\u001b[32mfilter()\u001b[39m masks \u001b[34mstats\u001b[39m::filter()\n",
      "\u001b[31m✖\u001b[39m \u001b[34mdplyr\u001b[39m::\u001b[32mlag()\u001b[39m    masks \u001b[34mstats\u001b[39m::lag()\n",
      "\u001b[36mℹ\u001b[39m Use the conflicted package (\u001b[3m\u001b[34m<http://conflicted.r-lib.org/>\u001b[39m\u001b[23m) to force all conflicts to become errors\n",
      "\n",
      "Adjuntando el paquete: 'igraph'\n",
      "\n",
      "\n",
      "The following objects are masked from 'package:lubridate':\n",
      "\n",
      "    %--%, union\n",
      "\n",
      "\n",
      "The following objects are masked from 'package:dplyr':\n",
      "\n",
      "    as_data_frame, groups, union\n",
      "\n",
      "\n",
      "The following objects are masked from 'package:purrr':\n",
      "\n",
      "    compose, simplify\n",
      "\n",
      "\n",
      "The following object is masked from 'package:tidyr':\n",
      "\n",
      "    crossing\n",
      "\n",
      "\n",
      "The following object is masked from 'package:tibble':\n",
      "\n",
      "    as_data_frame\n",
      "\n",
      "\n",
      "The following objects are masked from 'package:stats':\n",
      "\n",
      "    decompose, spectrum\n",
      "\n",
      "\n",
      "The following object is masked from 'package:base':\n",
      "\n",
      "    union\n",
      "\n",
      "\n",
      "Cargando paquete requerido: Matrix\n",
      "\n",
      "\n",
      "Adjuntando el paquete: 'Matrix'\n",
      "\n",
      "\n",
      "The following objects are masked from 'package:tidyr':\n",
      "\n",
      "    expand, pack, unpack\n",
      "\n",
      "\n",
      "\n",
      "Adjuntando el paquete: 'expm'\n",
      "\n",
      "\n",
      "The following object is masked from 'package:Matrix':\n",
      "\n",
      "    expm\n",
      "\n",
      "\n",
      "\n",
      "Adjuntando el paquete: 'tidygraph'\n",
      "\n",
      "\n",
      "The following object is masked from 'package:igraph':\n",
      "\n",
      "    groups\n",
      "\n",
      "\n",
      "The following object is masked from 'package:stats':\n",
      "\n",
      "    filter\n",
      "\n",
      "\n"
     ]
    }
   ],
   "source": [
    "library(readxl) ## Leer excel\n",
    "library(tidyverse) ## Manipular base de datos\n",
    "library(igraph) ## Grafos\n",
    "library(expm) \n",
    "library(writexl)\n",
    "library(ggraph)\n",
    "library(tidygraph)  # para manipular grafos estilo tidy"
   ]
  },
  {
   "cell_type": "code",
   "execution_count": 42,
   "id": "166fc772",
   "metadata": {
    "vscode": {
     "languageId": "r"
    }
   },
   "outputs": [
    {
     "name": "stderr",
     "output_type": "stream",
     "text": [
      "\u001b[1m\u001b[22mNew names:\n",
      "\u001b[36m•\u001b[39m `` -> `...1`\n"
     ]
    }
   ],
   "source": [
    "matriz <- read_excel(\n",
    "    \"C:/Users/cfutr/OneDrive/Escritorio/CICS/2025/Tesis/Objetivos de Aprendizaje/Modelo/Códigos para matriz/Matriz_juguete.xlsx\", col_names=TRUE)"
   ]
  },
  {
   "cell_type": "code",
   "execution_count": 43,
   "id": "a40c1cd4",
   "metadata": {
    "vscode": {
     "languageId": "r"
    }
   },
   "outputs": [],
   "source": [
    "matriz_adj<-matriz%>%\n",
    "  column_to_rownames(var = colnames(.)[1])%>%                         \n",
    "  mutate(across(everything(), as.numeric)) %>%  \n",
    "  as.matrix()\n",
    "\n",
    "matriz_adj[is.na(matriz_adj)] <- 0"
   ]
  },
  {
   "cell_type": "code",
   "execution_count": 44,
   "id": "27d74203",
   "metadata": {
    "vscode": {
     "languageId": "r"
    }
   },
   "outputs": [
    {
     "data": {
      "text/html": [
       "<table class=\"dataframe\">\n",
       "<caption>A matrix: 5 × 5 of type dbl</caption>\n",
       "<thead>\n",
       "\t<tr><th></th><th scope=col>1</th><th scope=col>2</th><th scope=col>3</th><th scope=col>4</th><th scope=col>5</th></tr>\n",
       "</thead>\n",
       "<tbody>\n",
       "\t<tr><th scope=row>1</th><td>0</td><td>1</td><td>1</td><td>0</td><td>0</td></tr>\n",
       "\t<tr><th scope=row>2</th><td>0</td><td>0</td><td>0</td><td>1</td><td>0</td></tr>\n",
       "\t<tr><th scope=row>3</th><td>0</td><td>0</td><td>0</td><td>1</td><td>0</td></tr>\n",
       "\t<tr><th scope=row>4</th><td>0</td><td>0</td><td>0</td><td>0</td><td>1</td></tr>\n",
       "\t<tr><th scope=row>5</th><td>1</td><td>1</td><td>1</td><td>1</td><td>0</td></tr>\n",
       "</tbody>\n",
       "</table>\n"
      ],
      "text/latex": [
       "A matrix: 5 × 5 of type dbl\n",
       "\\begin{tabular}{r|lllll}\n",
       "  & 1 & 2 & 3 & 4 & 5\\\\\n",
       "\\hline\n",
       "\t1 & 0 & 1 & 1 & 0 & 0\\\\\n",
       "\t2 & 0 & 0 & 0 & 1 & 0\\\\\n",
       "\t3 & 0 & 0 & 0 & 1 & 0\\\\\n",
       "\t4 & 0 & 0 & 0 & 0 & 1\\\\\n",
       "\t5 & 1 & 1 & 1 & 1 & 0\\\\\n",
       "\\end{tabular}\n"
      ],
      "text/markdown": [
       "\n",
       "A matrix: 5 × 5 of type dbl\n",
       "\n",
       "| <!--/--> | 1 | 2 | 3 | 4 | 5 |\n",
       "|---|---|---|---|---|---|\n",
       "| 1 | 0 | 1 | 1 | 0 | 0 |\n",
       "| 2 | 0 | 0 | 0 | 1 | 0 |\n",
       "| 3 | 0 | 0 | 0 | 1 | 0 |\n",
       "| 4 | 0 | 0 | 0 | 0 | 1 |\n",
       "| 5 | 1 | 1 | 1 | 1 | 0 |\n",
       "\n"
      ],
      "text/plain": [
       "  1 2 3 4 5\n",
       "1 0 1 1 0 0\n",
       "2 0 0 0 1 0\n",
       "3 0 0 0 1 0\n",
       "4 0 0 0 0 1\n",
       "5 1 1 1 1 0"
      ]
     },
     "metadata": {},
     "output_type": "display_data"
    }
   ],
   "source": [
    "matriz_adj"
   ]
  },
  {
   "cell_type": "code",
   "execution_count": 45,
   "id": "2c2d900b",
   "metadata": {
    "vscode": {
     "languageId": "r"
    }
   },
   "outputs": [],
   "source": [
    "g <- graph_from_adjacency_matrix(matriz_adj, mode = \"directed\")"
   ]
  },
  {
   "cell_type": "code",
   "execution_count": 46,
   "id": "02d7b41a",
   "metadata": {
    "vscode": {
     "languageId": "r"
    }
   },
   "outputs": [
    {
     "data": {
      "image/png": "[encoded data removed]",
      "text/plain": [
       "plot without title"
      ]
     },
     "metadata": {
      "image/png": {
       "height": 420,
       "width": 420
      }
     },
     "output_type": "display_data"
    }
   ],
   "source": [
    "grafo_tidy <- as_tbl_graph(g)\n",
    "# Visualizar\n",
    "ggraph(grafo_tidy, layout = \"tree\") +\n",
    "  geom_edge_link(arrow = arrow(length = unit(5, 'mm')), end_cap = circle(4, 'mm')) +\n",
    "  geom_node_point(size = 15, color = \"steelblue\") +\n",
    "  geom_node_text(aes(label = name), repel = TRUE, size = 10, max.overlaps = Inf) +\n",
    "  theme_void() +\n",
    "  ggtitle(\"Precedencias sin redundancia\")"
   ]
  },
  {
   "cell_type": "code",
   "execution_count": 51,
   "id": "12698ec3",
   "metadata": {
    "vscode": {
     "languageId": "r"
    }
   },
   "outputs": [
    {
     "data": {
      "text/html": [
       "<table class=\"dataframe\">\n",
       "<caption>A tibble: 2 × 3</caption>\n",
       "<thead>\n",
       "\t<tr><th scope=col>from</th><th scope=col>to</th><th scope=col>pair_id</th></tr>\n",
       "\t<tr><th scope=col>&lt;chr&gt;</th><th scope=col>&lt;chr&gt;</th><th scope=col>&lt;chr&gt;</th></tr>\n",
       "</thead>\n",
       "<tbody>\n",
       "\t<tr><td>4</td><td>5</td><td>4--5</td></tr>\n",
       "\t<tr><td>5</td><td>4</td><td>4--5</td></tr>\n",
       "</tbody>\n",
       "</table>\n"
      ],
      "text/latex": [
       "A tibble: 2 × 3\n",
       "\\begin{tabular}{lll}\n",
       " from & to & pair\\_id\\\\\n",
       " <chr> & <chr> & <chr>\\\\\n",
       "\\hline\n",
       "\t 4 & 5 & 4--5\\\\\n",
       "\t 5 & 4 & 4--5\\\\\n",
       "\\end{tabular}\n"
      ],
      "text/markdown": [
       "\n",
       "A tibble: 2 × 3\n",
       "\n",
       "| from &lt;chr&gt; | to &lt;chr&gt; | pair_id &lt;chr&gt; |\n",
       "|---|---|---|\n",
       "| 4 | 5 | 4--5 |\n",
       "| 5 | 4 | 4--5 |\n",
       "\n"
      ],
      "text/plain": [
       "  from to pair_id\n",
       "1 4    5  4--5   \n",
       "2 5    4  4--5   "
      ]
     },
     "metadata": {},
     "output_type": "display_data"
    }
   ],
   "source": [
    "library(igraph)\n",
    "\n",
    "# Suponiendo que tienes tu grafo dirigido\n",
    "# g <- graph_from_adjacency_matrix(...)\n",
    "\n",
    "# Convertimos a data.frame las aristas\n",
    "aristas <- as_data_frame(g, what = \"edges\")\n",
    "\n",
    "# Generamos un identificador de cada par como \"A--B\" ordenado alfabéticamente\n",
    "aristas$pair_id <- apply(aristas[, c(\"from\", \"to\")], 1, function(x) paste(sort(x), collapse = \"--\"))\n",
    "\n",
    "# Contamos cuántas veces aparece cada par (si es 2, hay doble dirección)\n",
    "dobles <- aristas %>%\n",
    "  group_by(pair_id) %>%\n",
    "  filter(n() == 2) %>%\n",
    "  ungroup()\n",
    "\n",
    "# Resultado: lista de aristas que forman relaciones bidireccionales\n",
    "dobles\n"
   ]
  },
  {
   "cell_type": "code",
   "execution_count": 47,
   "id": "2c1a888f",
   "metadata": {
    "vscode": {
     "languageId": "r"
    }
   },
   "outputs": [],
   "source": [
    "eliminar_aristas_redundantes <- function(g) {\n",
    "  aristas <- as_data_frame(g, what = \"edges\")\n",
    "  redundantes <- c()\n",
    "\n",
    "  for (i in seq_len(nrow(aristas))) {\n",
    "    from <- aristas$from[i]\n",
    "    to   <- aristas$to[i]\n",
    "    \n",
    "    # Eliminar temporalmente la arista\n",
    "    g_temp <- delete_edges(g, E(g, P = c(from, to)))\n",
    "\n",
    "    # Comprobar si existe otra ruta de from a to\n",
    "    caminos <- suppressWarnings(all_simple_paths(g_temp, from = from, to = to))\n",
    "    \n",
    "    # Solo marcar como redundante si hay otro camino alternativo\n",
    "    if (length(caminos) > 0) {\n",
    "      redundantes <- c(redundantes, i)\n",
    "    }\n",
    "    cat(sprintf(\"Revisando %d de %d: %s → %s\\n\", i, nrow(aristas), from, to))\n",
    "  flush.console()\n",
    "  }\n",
    "\n",
    "  # Eliminar aristas redundantes del grafo original\n",
    "  g_sin <- delete_edges(g, E(g)[redundantes])\n",
    "  return(g_sin)\n",
    "}"
   ]
  },
  {
   "cell_type": "code",
   "execution_count": 48,
   "id": "fb02829b",
   "metadata": {
    "vscode": {
     "languageId": "r"
    }
   },
   "outputs": [
    {
     "name": "stdout",
     "output_type": "stream",
     "text": [
      "Revisando 1 de 9: 1 → 2\n",
      "Revisando 2 de 9: 1 → 3\n",
      "Revisando 3 de 9: 2 → 4\n",
      "Revisando 4 de 9: 3 → 4\n",
      "Revisando 5 de 9: 4 → 5\n",
      "Revisando 6 de 9: 5 → 1\n",
      "Revisando 7 de 9: 5 → 2\n",
      "Revisando 8 de 9: 5 → 3\n",
      "Revisando 9 de 9: 5 → 4\n"
     ]
    }
   ],
   "source": [
    "g_sin_redundancia <- eliminar_aristas_redundantes(g)"
   ]
  },
  {
   "cell_type": "code",
   "execution_count": 49,
   "id": "a777b77f",
   "metadata": {
    "vscode": {
     "languageId": "r"
    }
   },
   "outputs": [
    {
     "data": {
      "text/plain": [
       "IGRAPH 0ff9209 DN-- 5 4 -- \n",
       "+ attr: name (v/c)\n",
       "+ edges from 0ff9209 (vertex names):\n",
       "[1] 2->4 3->4 4->5 5->1"
      ]
     },
     "metadata": {},
     "output_type": "display_data"
    }
   ],
   "source": [
    "g_sin_redundancia"
   ]
  },
  {
   "cell_type": "code",
   "execution_count": 50,
   "id": "fc24674b",
   "metadata": {
    "vscode": {
     "languageId": "r"
    }
   },
   "outputs": [
    {
     "data": {
      "image/png": "[encoded data removed]",
      "text/plain": [
       "plot without title"
      ]
     },
     "metadata": {
      "image/png": {
       "height": 420,
       "width": 420
      }
     },
     "output_type": "display_data"
    }
   ],
   "source": [
    "grafo_tidy <- as_tbl_graph(g_sin_redundancia\n",
    ")\n",
    "# Visualizar\n",
    "ggraph(grafo_tidy, layout = \"tree\") +\n",
    "  geom_edge_link(arrow = arrow(length = unit(5, 'mm')), end_cap = circle(4, 'mm')) +\n",
    "  geom_node_point(size = 12, color = \"steelblue\") +\n",
    "  geom_node_text(aes(label = name), repel = TRUE, size = 10, max.overlaps = Inf) +\n",
    "  theme_void() +\n",
    "  ggtitle(\"Precedencias sin redundancia\")"
   ]
  }
 ],
 "metadata": {
  "kernelspec": {
   "display_name": "R",
   "language": "R",
   "name": "ir"
  },
  "language_info": {
   "codemirror_mode": "r",
   "file_extension": ".r",
   "mimetype": "text/x-r-source",
   "name": "R",
   "pygments_lexer": "r",
   "version": "4.5.1"
  }
 },
 "nbformat": 4,
 "nbformat_minor": 5
}
