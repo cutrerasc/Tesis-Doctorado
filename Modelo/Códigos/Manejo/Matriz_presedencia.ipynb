{
 "cells": [
  {
   "cell_type": "code",
   "execution_count": 1,
   "id": "ec9a38a9-f852-4c82-90ee-41c2deaaeecd",
   "metadata": {
    "vscode": {
     "languageId": "r"
    }
   },
   "outputs": [
    {
     "name": "stderr",
     "output_type": "stream",
     "text": [
      "── \u001b[1mAttaching core tidyverse packages\u001b[22m ──────────────────────── tidyverse 2.0.0 ──\n",
      "\u001b[32m✔\u001b[39m \u001b[34mdplyr    \u001b[39m 1.1.4     \u001b[32m✔\u001b[39m \u001b[34mreadr    \u001b[39m 2.1.5\n",
      "\u001b[32m✔\u001b[39m \u001b[34mforcats  \u001b[39m 1.0.0     \u001b[32m✔\u001b[39m \u001b[34mstringr  \u001b[39m 1.5.1\n",
      "\u001b[32m✔\u001b[39m \u001b[34mggplot2  \u001b[39m 3.5.2     \u001b[32m✔\u001b[39m \u001b[34mtibble   \u001b[39m 3.3.0\n",
      "\u001b[32m✔\u001b[39m \u001b[34mlubridate\u001b[39m 1.9.4     \u001b[32m✔\u001b[39m \u001b[34mtidyr    \u001b[39m 1.3.1\n",
      "\u001b[32m✔\u001b[39m \u001b[34mpurrr    \u001b[39m 1.1.0     \n",
      "── \u001b[1mConflicts\u001b[22m ────────────────────────────────────────── tidyverse_conflicts() ──\n",
      "\u001b[31m✖\u001b[39m \u001b[34mdplyr\u001b[39m::\u001b[32mfilter()\u001b[39m masks \u001b[34mstats\u001b[39m::filter()\n",
      "\u001b[31m✖\u001b[39m \u001b[34mdplyr\u001b[39m::\u001b[32mlag()\u001b[39m    masks \u001b[34mstats\u001b[39m::lag()\n",
      "\u001b[36mℹ\u001b[39m Use the conflicted package (\u001b[3m\u001b[34m<http://conflicted.r-lib.org/>\u001b[39m\u001b[23m) to force all conflicts to become errors\n",
      "\n",
      "Adjuntando el paquete: 'igraph'\n",
      "\n",
      "\n",
      "The following objects are masked from 'package:lubridate':\n",
      "\n",
      "    %--%, union\n",
      "\n",
      "\n",
      "The following objects are masked from 'package:dplyr':\n",
      "\n",
      "    as_data_frame, groups, union\n",
      "\n",
      "\n",
      "The following objects are masked from 'package:purrr':\n",
      "\n",
      "    compose, simplify\n",
      "\n",
      "\n",
      "The following object is masked from 'package:tidyr':\n",
      "\n",
      "    crossing\n",
      "\n",
      "\n",
      "The following object is masked from 'package:tibble':\n",
      "\n",
      "    as_data_frame\n",
      "\n",
      "\n",
      "The following objects are masked from 'package:stats':\n",
      "\n",
      "    decompose, spectrum\n",
      "\n",
      "\n",
      "The following object is masked from 'package:base':\n",
      "\n",
      "    union\n",
      "\n",
      "\n",
      "Cargando paquete requerido: Matrix\n",
      "\n",
      "\n",
      "Adjuntando el paquete: 'Matrix'\n",
      "\n",
      "\n",
      "The following objects are masked from 'package:tidyr':\n",
      "\n",
      "    expand, pack, unpack\n",
      "\n",
      "\n",
      "\n",
      "Adjuntando el paquete: 'expm'\n",
      "\n",
      "\n",
      "The following object is masked from 'package:Matrix':\n",
      "\n",
      "    expm\n",
      "\n",
      "\n",
      "\n",
      "Adjuntando el paquete: 'tidygraph'\n",
      "\n",
      "\n",
      "The following object is masked from 'package:igraph':\n",
      "\n",
      "    groups\n",
      "\n",
      "\n",
      "The following object is masked from 'package:stats':\n",
      "\n",
      "    filter\n",
      "\n",
      "\n"
     ]
    }
   ],
   "source": [
    "library(readxl) ## Leer excel\n",
    "library(tidyverse) ## Manipular base de datos\n",
    "library(igraph) ## Grafos\n",
    "library(expm) \n",
    "library(writexl)\n",
    "library(ggraph)\n",
    "library(tidygraph)  # para manipular grafos estilo tidy\n"
   ]
  },
  {
   "cell_type": "code",
   "execution_count": 2,
   "id": "3a8ebb9a-e223-47e3-ab00-07573e0feef6",
   "metadata": {
    "vscode": {
     "languageId": "r"
    }
   },
   "outputs": [],
   "source": [
    "# Lee un archivo Excel ubicado en la ruta especificada\n",
    "matriz <- read_excel(\n",
    "    \"C:/Users/cfutr/OneDrive/Escritorio/CICS/2025/Tesis/Objetivos de Aprendizaje/Modelo/datos/Raw_Data/Matriz_de_Adyacencia_Pensiones_v5.xlsx\", col_names=TRUE)"
   ]
  },
  {
   "cell_type": "code",
   "execution_count": 3,
   "id": "4079e4a0-6a73-4bb8-8d9d-01d77e73d95a",
   "metadata": {
    "vscode": {
     "languageId": "r"
    }
   },
   "outputs": [],
   "source": [
    "# Toma el data frame `matriz` (cargado desde un archivo Excel previamente)\n",
    "# y lo transforma en una matriz de adyacencia numérica.\n",
    "\n",
    "matriz_adj<-matriz%>%\n",
    "  column_to_rownames(var = colnames(.)[1])%>% #Convierte la primera columna (por ejemplo, \"Concepto\") en los nombres de las filas.                         \n",
    "  mutate(across(everything(), as.numeric)) %>%  #Aplica `as.numeric()` a todas las columnas del data frame.\n",
    "  as.matrix() #Convierte el data frame limpio en una matriz\n",
    "\n",
    "# Reemplaza todos los valores NA (valores perdidos) en la matriz de adyacencia `matriz_adj` por ceros.\n",
    "matriz_adj[is.na(matriz_adj)] <- 0\n",
    "\n",
    "# Crea un grafo dirigido (objeto de clase `igraph`) a partir de la matriz de adyacencia `matriz_adj`.\n",
    "g <- graph_from_adjacency_matrix(matriz_adj, mode = \"directed\")"
   ]
  },
  {
   "cell_type": "code",
   "execution_count": 4,
   "id": "8dd912e8",
   "metadata": {
    "vscode": {
     "languageId": "r"
    }
   },
   "outputs": [
    {
     "data": {
      "text/html": [
       "<table class=\"dataframe\">\n",
       "<caption>A tibble: 0 × 3</caption>\n",
       "<thead>\n",
       "\t<tr><th scope=col>from</th><th scope=col>to</th><th scope=col>pair_id</th></tr>\n",
       "\t<tr><th scope=col>&lt;chr&gt;</th><th scope=col>&lt;chr&gt;</th><th scope=col>&lt;chr&gt;</th></tr>\n",
       "</thead>\n",
       "<tbody>\n",
       "</tbody>\n",
       "</table>\n"
      ],
      "text/latex": [
       "A tibble: 0 × 3\n",
       "\\begin{tabular}{lll}\n",
       " from & to & pair\\_id\\\\\n",
       " <chr> & <chr> & <chr>\\\\\n",
       "\\hline\n",
       "\\end{tabular}\n"
      ],
      "text/markdown": [
       "\n",
       "A tibble: 0 × 3\n",
       "\n",
       "| from &lt;chr&gt; | to &lt;chr&gt; | pair_id &lt;chr&gt; |\n",
       "|---|---|---|\n",
       "\n"
      ],
      "text/plain": [
       "     from to pair_id"
      ]
     },
     "metadata": {},
     "output_type": "display_data"
    }
   ],
   "source": [
    "# Convertimos a data.frame las aristas\n",
    "aristas <- as_data_frame(g, what = \"edges\")\n",
    "\n",
    "# Generamos un identificador de cada par como \"A--B\" ordenado alfabéticamente\n",
    "aristas$pair_id <- apply(aristas[, c(\"from\", \"to\")], 1, function(x) paste(sort(x), collapse = \"--\"))\n",
    "\n",
    "# Contamos cuántas veces aparece cada par (si es 2, hay doble dirección)\n",
    "dobles <- aristas %>%\n",
    "  group_by(pair_id) %>%\n",
    "  filter(n() == 2) %>%\n",
    "  ungroup()\n",
    "\n",
    "# Resultado: lista de aristas que forman relaciones bidireccionales\n",
    "dobles"
   ]
  },
  {
   "cell_type": "code",
   "execution_count": null,
   "id": "930591bb",
   "metadata": {
    "vscode": {
     "languageId": "r"
    }
   },
   "outputs": [],
   "source": [
    "options(repr.plot.width = 30, repr.plot.height = 20)\n",
    "# Convertir tu grafo igraph a tidygraph\n",
    "grafo_tidy <- as_tbl_graph(g)\n",
    "\n",
    "# Visualizar\n",
    "ggraph(grafo_tidy, layout = \"tree\") +\n",
    "  geom_edge_link(arrow = arrow(length = unit(1, 'mm')), end_cap = circle(2.5, 'mm')) +\n",
    "  geom_node_point(size = 12, color = \"steelblue\") +\n",
    "  geom_node_text(aes(label = name), repel = TRUE, size = 10, max.overlaps = Inf) +\n",
    "  theme_void() +\n",
    "  ggtitle(\"Precedencias sin redundancia\")"
   ]
  },
  {
   "cell_type": "code",
   "execution_count": null,
   "id": "df2fc496",
   "metadata": {
    "vscode": {
     "languageId": "r"
    }
   },
   "outputs": [],
   "source": [
    "eliminar_aristas_redundantes <- function(g) {\n",
    "  aristas <- as_data_frame(g, what = \"edges\")\n",
    "  redundantes <- c()\n",
    "\n",
    "  for (i in seq_len(nrow(aristas))) {\n",
    "    from <- aristas$from[i]\n",
    "    to   <- aristas$to[i]\n",
    "    \n",
    "    # Eliminar temporalmente la arista\n",
    "    g_temp <- delete_edges(g, E(g, P = c(from, to)))\n",
    "\n",
    "    # Comprobar si existe otra ruta de from a to\n",
    "    caminos <- suppressWarnings(all_simple_paths(g_temp, from = from, to = to))\n",
    "    \n",
    "    # Solo marcar como redundante si hay otro camino alternativo\n",
    "    if (length(caminos) > 0) {\n",
    "      redundantes <- c(redundantes, i)\n",
    "    }\n",
    "    cat(sprintf(\"Revisando %d de %d: %s → %s\\n\", i, nrow(aristas), from, to))\n",
    "  flush.console()\n",
    "  }\n",
    "\n",
    "  # Eliminar aristas redundantes del grafo original\n",
    "  g_sin <- delete_edges(g, E(g)[redundantes])\n",
    "  return(g_sin)\n",
    "}\n"
   ]
  },
  {
   "cell_type": "code",
   "execution_count": null,
   "id": "63c7a029",
   "metadata": {
    "vscode": {
     "languageId": "r"
    }
   },
   "outputs": [],
   "source": [
    "g_sin_redundancia <- eliminar_aristas_redundantes(g)\n"
   ]
  },
  {
   "cell_type": "code",
   "execution_count": null,
   "id": "e690395f",
   "metadata": {
    "vscode": {
     "languageId": "r"
    }
   },
   "outputs": [],
   "source": [
    "matriz_sin_redundancia <- as_adjacency_matrix(g_sin_redundancia, sparse = FALSE)"
   ]
  },
  {
   "cell_type": "code",
   "execution_count": null,
   "id": "ceb4ccc5-d089-4778-b025-da4760b4eed9",
   "metadata": {
    "vscode": {
     "languageId": "r"
    }
   },
   "outputs": [],
   "source": [
    "# Crea un grafo dirigido a partir de la matriz de adyacencia sin redundancias.\n",
    "\n",
    "g_sin_redundancia <- graph_from_adjacency_matrix(\n",
    "  matriz_sin_redundancia,\n",
    "  mode = \"directed\",\n",
    "  diag = FALSE\n",
    ")"
   ]
  },
  {
   "cell_type": "code",
   "execution_count": null,
   "id": "c054cf51-6ebc-42b7-a0c1-7072c23772e5",
   "metadata": {
    "vscode": {
     "languageId": "r"
    }
   },
   "outputs": [],
   "source": [
    "options(repr.plot.width = 30, repr.plot.height = 15)\n",
    "# Convertir tu grafo igraph a tidygraph\n",
    "grafo_tidy <- as_tbl_graph(g_sin_redundancia)\n",
    "\n",
    "# Visualizar\n",
    "ggraph(grafo_tidy) +\n",
    "  geom_edge_link(arrow = arrow(length = unit(4, 'mm')), end_cap = circle(3, 'mm')) +\n",
    "  geom_node_point(size = 12, color = \"steelblue\") +\n",
    "  geom_node_text(aes(label = name), repel = TRUE, size = 5, max.overlaps = Inf) +\n",
    "  theme_void() +\n",
    "  ggtitle(\"Precedencias sin redundancia\")"
   ]
  },
  {
   "cell_type": "code",
   "execution_count": null,
   "id": "73ddc976-64b8-45b8-b711-7d91d6a76bfa",
   "metadata": {
    "vscode": {
     "languageId": "r"
    }
   },
   "outputs": [],
   "source": [
    "# Convertimos a data.frame y agregamos la columna con los nombres de fila\n",
    "df_matriz <- as.data.frame(matriz_sin_redundancia)\n",
    "df_matriz <- tibble::rownames_to_column(df_matriz, var = \"Concepto\")\n",
    "write_xlsx(df_matriz, path = \"C:/Users/cfutr/OneDrive/Escritorio/CICS/2025/Tesis/Objetivos de Aprendizaje/Modelo/datos/Intermedias/matriz_sin_redundancia_v2.xlsx\")\n"
   ]
  },
  {
   "cell_type": "code",
   "execution_count": null,
   "id": "02044926-55e1-468a-b98a-83e27efe1269",
   "metadata": {
    "vscode": {
     "languageId": "r"
    }
   },
   "outputs": [],
   "source": [
    "ggsave(\n",
    "  filename = \"C:/Users/cfutr/OneDrive/Escritorio/CICS/2025/Tesis/Objetivos de Aprendizaje/Modelo/Códigos/Plots/grafo_precedencias_v2.png\",\n",
    "  width = 30,\n",
    "  height = 15,\n",
    "  dpi = 300  # alta resolución\n",
    ")"
   ]
  },
  {
   "cell_type": "code",
   "execution_count": null,
   "id": "7e5a90a0",
   "metadata": {
    "vscode": {
     "languageId": "r"
    }
   },
   "outputs": [],
   "source": [
    "# Lista para almacenar los caminos hacia atrás\n",
    "caminos_hacia_atras <- list()\n",
    "\n",
    "# Iterar sobre cada nodo del grafo\n",
    "for (v in V(g_sin_redundancia)) {\n",
    "  nombre_nodo <- V(g_sin_redundancia)$name[v]\n",
    "  \n",
    "  # Mostrar nodo que se está procesando\n",
    "  cat(sprintf(\"🔄 Procesando caminos hacia: %s\\n\", nombre_nodo))\n",
    "  flush.console()\n",
    "\n",
    "  # Obtener todos los nodos desde los que se puede llegar a 'v'\n",
    "  predecesores <- V(g_sin_redundancia)[suppressWarnings(subcomponent(g_sin_redundancia, v, mode = \"in\"))]\n",
    "  \n",
    "  # Obtener todos los caminos simples hacia 'v' desde cada predecesor\n",
    "  caminos <- list()\n",
    "  for (p in predecesores$name) {\n",
    "    if (p != nombre_nodo) {\n",
    "      caminos_desde_p <- suppressWarnings(all_simple_paths(g_sin_redundancia, from = p, to = nombre_nodo, mode = \"out\"))\n",
    "      if (length(caminos_desde_p) > 0) {\n",
    "        caminos[[p]] <- lapply(caminos_desde_p, function(path) V(g_sin_redundancia)$name[path])\n",
    "      }\n",
    "    }\n",
    "  }\n",
    "\n",
    "  # Guardar todos los caminos hacia el nodo actual\n",
    "  caminos_hacia_atras[[nombre_nodo]] <- caminos\n",
    "}"
   ]
  },
  {
   "cell_type": "code",
   "execution_count": null,
   "id": "ae236c00",
   "metadata": {
    "vscode": {
     "languageId": "r"
    }
   },
   "outputs": [],
   "source": [
    "# Versión detallada: 1 fila por camino\n",
    "caminos_df <- do.call(rbind, lapply(names(caminos_hacia_atras), function(nodo) {\n",
    "  caminos <- caminos_hacia_atras[[nodo]]\n",
    "  if (length(caminos) == 0) {\n",
    "    return(data.frame(\n",
    "      nodo_objetivo = nodo,\n",
    "      nodo_origen = NA,\n",
    "      camino = NA,\n",
    "      largo_camino = NA,\n",
    "      stringsAsFactors = FALSE\n",
    "    ))\n",
    "  }\n",
    "  do.call(rbind, lapply(names(caminos), function(origen) {\n",
    "    lapply(caminos[[origen]], function(c) {\n",
    "      data.frame(\n",
    "        nodo_objetivo = nodo,\n",
    "        nodo_origen = origen,\n",
    "        camino = paste(c, collapse = \" → \"),\n",
    "        largo_camino = length(c),\n",
    "        stringsAsFactors = FALSE\n",
    "      )\n",
    "    }) %>% bind_rows()\n",
    "  }))\n",
    "}))\n"
   ]
  },
  {
   "cell_type": "code",
   "execution_count": null,
   "id": "30ae84d7",
   "metadata": {
    "vscode": {
     "languageId": "r"
    }
   },
   "outputs": [],
   "source": [
    "caminos_df %>%\n",
    "    filter(nodo_objetivo == \"Opciones_Post_Oferta\") %>%\n",
    "    arrange(largo_camino)#%>%\n",
    "    #distinct(nodo_origen)#%>%count()"
   ]
  },
  {
   "cell_type": "code",
   "execution_count": null,
   "id": "3a209dd7",
   "metadata": {
    "vscode": {
     "languageId": "r"
    }
   },
   "outputs": [],
   "source": []
  }
 ],
 "metadata": {
  "kernelspec": {
   "display_name": "R",
   "language": "R",
   "name": "ir"
  },
  "language_info": {
   "codemirror_mode": "r",
   "file_extension": ".r",
   "mimetype": "text/x-r-source",
   "name": "R",
   "pygments_lexer": "r",
   "version": "4.5.1"
  }
 },
 "nbformat": 4,
 "nbformat_minor": 5
}
